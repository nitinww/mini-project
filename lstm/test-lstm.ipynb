{
 "cells": [
  {
   "cell_type": "markdown",
   "id": "802ef2a7-91f1-48ea-afce-fb3308517923",
   "metadata": {},
   "source": [
    "# Importing data"
   ]
  },
  {
   "cell_type": "code",
   "execution_count": 1,
   "id": "4930d00e-6e60-43c2-b430-248c4f2bc740",
   "metadata": {},
   "outputs": [],
   "source": [
    "import pandas as pd"
   ]
  },
  {
   "cell_type": "code",
   "execution_count": 7,
   "id": "0840f426-3db2-42e3-8f50-40aebe2ba259",
   "metadata": {},
   "outputs": [],
   "source": [
    "ratios = pd.read_csv(\"../datasets/ratios/ADANIENT-ratios.csv\")\n",
    "cash_flow = pd.read_csv(\"../datasets/cash-flow/ADANIENT-cash-flow.csv\")\n",
    "balance_sheet = pd.read_csv(\"../datasets/balance-sheet/ADANIENT-balance-sheet.csv\")"
   ]
  },
  {
   "cell_type": "code",
   "execution_count": null,
   "id": "5bd01dda-e0f1-4b7e-b4ae-848a98526ccc",
   "metadata": {},
   "outputs": [],
   "source": []
  }
 ],
 "metadata": {
  "kernelspec": {
   "display_name": "Python 3 (ipykernel)",
   "language": "python",
   "name": "python3"
  },
  "language_info": {
   "codemirror_mode": {
    "name": "ipython",
    "version": 3
   },
   "file_extension": ".py",
   "mimetype": "text/x-python",
   "name": "python",
   "nbconvert_exporter": "python",
   "pygments_lexer": "ipython3",
   "version": "3.8.10"
  }
 },
 "nbformat": 4,
 "nbformat_minor": 5
}
