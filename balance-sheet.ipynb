{
 "cells": [
  {
   "cell_type": "code",
   "execution_count": 1,
   "id": "21838759-94be-4a2f-860b-7ceb791e6b04",
   "metadata": {},
   "outputs": [],
   "source": [
    "import pandas as pd"
   ]
  },
  {
   "cell_type": "code",
   "execution_count": 2,
   "id": "be257ed8-5ce4-48b3-bd5f-f6673c4a6166",
   "metadata": {},
   "outputs": [],
   "source": [
    "companies = pd.read_csv(\"companies.csv\")"
   ]
  },
  {
   "cell_type": "code",
   "execution_count": 3,
   "id": "775f90c5-f02a-48cb-aff1-d489aabc7649",
   "metadata": {},
   "outputs": [],
   "source": [
    "tickers = companies.iloc[:, 0].tolist()\n",
    "urls = companies.iloc[:, 1].tolist()"
   ]
  },
  {
   "cell_type": "code",
   "execution_count": 4,
   "id": "56c0f84d-4b6e-4b3e-926a-ec7e6388d884",
   "metadata": {
    "scrolled": true
   },
   "outputs": [
    {
     "name": "stdout",
     "output_type": "stream",
     "text": [
      "CSV file created for ADANIENT\n",
      "CSV file created for ADANIPORTS\n",
      "Error processing data for APOLLOHOSP at URL https://www.moneycontrol.com/financials/w/balance-sheetVI/AHE/1: Remote end closed connection without response\n",
      "CSV file created for APOLLOHOSP\n",
      "CSV file created for ASIANPAINT\n",
      "Error processing data for AXISBANK at URL https://www.moneycontrol.com/financials/w/balance-sheetVI/AB16/4: No tables found matching pattern '.+'\n",
      "CSV file created for AXISBANK\n",
      "CSV file created for BAJAJ-AUTO\n",
      "CSV file created for BAJFINANCE\n",
      "CSV file created for BAJAJFINSV\n",
      "CSV file created for BPCL\n",
      "CSV file created for BHARTIARTL\n",
      "CSV file created for BRITANNIA\n",
      "CSV file created for CIPLA\n",
      "CSV file created for COALINDIA\n",
      "CSV file created for DIVISLAB\n",
      "CSV file created for DRREDDY\n",
      "CSV file created for EICHERMOT\n",
      "CSV file created for GRASIM\n",
      "CSV file created for HCLTECH\n",
      "Error processing data for HDFCBANK at URL https://www.moneycontrol.com/financials/w/balance-sheetVI/HDF01/4: No tables found matching pattern '.+'\n",
      "CSV file created for HDFCBANK\n",
      "Error processing data for HDFCLIFE at URL https://www.moneycontrol.com/financials/w/balance-sheetVI/HSL01/4: No tables found matching pattern '.+'\n",
      "CSV file created for HDFCLIFE\n",
      "CSV file created for HEROMOTOCO\n",
      "CSV file created for HINDALCO\n",
      "CSV file created for HINDUNILVR\n",
      "Error processing data for ICICIBANK at URL https://www.moneycontrol.com/financials/w/balance-sheetVI/ICI02/4: No tables found matching pattern '.+'\n",
      "CSV file created for ICICIBANK\n",
      "Error processing data for INDUSINDBK at URL https://www.moneycontrol.com/financials/w/balance-sheetVI/IIB/4: No tables found matching pattern '.+'\n",
      "CSV file created for INDUSINDBK\n",
      "CSV file created for INFY\n",
      "CSV file created for ITC\n",
      "CSV file created for JSWSTEEL\n",
      "Error processing data for KOTAKBANK at URL https://www.moneycontrol.com/financials/w/balance-sheetVI/KMB/4: No tables found matching pattern '.+'\n",
      "CSV file created for KOTAKBANK\n",
      "CSV file created for LT\n",
      "Error processing data for LTIM at URL https://www.moneycontrol.com/financials/w/balance-sheetVI/LI12/4: No tables found matching pattern '.+'\n",
      "CSV file created for LTIM\n",
      "CSV file created for M&M\n",
      "CSV file created for MARUTI\n",
      "CSV file created for NESTLEIND\n",
      "CSV file created for NTPC\n",
      "CSV file created for ONGC\n",
      "CSV file created for POWERGRID\n",
      "CSV file created for RELIANCE\n",
      "Error processing data for SBILIFE at URL https://www.moneycontrol.com/financials/w/balance-sheetVI/SLI03/4: No tables found matching pattern '.+'\n",
      "CSV file created for SBILIFE\n",
      "CSV file created for SHRIRAMFIN\n",
      "Error processing data for SBIN at URL https://www.moneycontrol.com/financials/w/balance-sheetVI/SBI/4: No tables found matching pattern '.+'\n",
      "CSV file created for SBIN\n",
      "CSV file created for SUNPHARMA\n",
      "CSV file created for TATAMOTORS\n",
      "CSV file created for TATASTEEL\n",
      "CSV file created for TCS\n",
      "CSV file created for TATACONSUM\n",
      "CSV file created for TECHM\n",
      "CSV file created for TITAN\n",
      "CSV file created for ULTRACEMCO\n",
      "CSV file created for WIPRO\n"
     ]
    }
   ],
   "source": [
    "for i in range(len(tickers)):\n",
    "    data = pd.DataFrame()\n",
    "    for j in range(4, 0, -1):\n",
    "        url = \"https://www.moneycontrol.com/financials/w/balance-sheetVI/\" + urls[i] + \"/\" + str(j)\n",
    "        # print(url)\n",
    "        try:\n",
    "            df = pd.read_html(url)[0]\n",
    "            df = df.iloc[:, :-1]\n",
    "            df.columns = df.iloc[0]\n",
    "            df = df.drop(0)\n",
    "            df = df.reset_index(drop=True)\n",
    "            df = df.drop(0)\n",
    "            df.columns.values[0] = None\n",
    "            df.set_index(df.columns[0], inplace=True)\n",
    "            df = df.iloc[:, ::-1]\n",
    "            data = pd.concat([data, df], axis=1)\n",
    "        except Exception as e:\n",
    "            print(f\"Error processing data for {tickers[i]} at URL {url}: {e}\")\n",
    "    \n",
    "    if not data.empty:\n",
    "        path = \"./balance-sheet/\" + tickers[i] + \"-balance-sheet.csv\"\n",
    "        data.to_csv(path)\n",
    "        print(f\"CSV file created for {tickers[i]}\")\n",
    "    else:\n",
    "        print(f\"No data available for {tickers[i]}\")\n"
   ]
  },
  {
   "cell_type": "code",
   "execution_count": null,
   "id": "e04e37eb-0678-4e8a-b005-a299521ad7f6",
   "metadata": {},
   "outputs": [],
   "source": []
  }
 ],
 "metadata": {
  "kernelspec": {
   "display_name": "Python 3 (ipykernel)",
   "language": "python",
   "name": "python3"
  },
  "language_info": {
   "codemirror_mode": {
    "name": "ipython",
    "version": 3
   },
   "file_extension": ".py",
   "mimetype": "text/x-python",
   "name": "python",
   "nbconvert_exporter": "python",
   "pygments_lexer": "ipython3",
   "version": "3.8.10"
  }
 },
 "nbformat": 4,
 "nbformat_minor": 5
}
